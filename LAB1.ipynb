{
  "nbformat": 4,
  "nbformat_minor": 0,
  "metadata": {
    "colab": {
      "provenance": [],
      "authorship_tag": "ABX9TyNCmziUZzerpDXpd4qODhfI",
      "include_colab_link": true
    },
    "kernelspec": {
      "name": "python3",
      "display_name": "Python 3"
    },
    "language_info": {
      "name": "python"
    }
  },
  "cells": [
    {
      "cell_type": "markdown",
      "metadata": {
        "id": "view-in-github",
        "colab_type": "text"
      },
      "source": [
        "<a href=\"https://colab.research.google.com/github/aayushjha0559-tech/python-lab/blob/main/LAB1.ipynb\" target=\"_parent\"><img src=\"https://colab.research.google.com/assets/colab-badge.svg\" alt=\"Open In Colab\"/></a>"
      ]
    },
    {
      "cell_type": "markdown",
      "source": [
        "1.Swappping of 2 numbers"
      ],
      "metadata": {
        "id": "s8dMxHj5CR1U"
      }
    },
    {
      "cell_type": "code",
      "source": [
        "a=10\n",
        "b=20\n",
        "a,b=b,a\n",
        "print(\"A is\",a)\n",
        "print(\"B is\",b)"
      ],
      "metadata": {
        "colab": {
          "base_uri": "https://localhost:8080/"
        },
        "id": "U3H7eHEdCXVq",
        "outputId": "5ac840eb-7064-44e7-d28d-be85871b8da5"
      },
      "execution_count": null,
      "outputs": [
        {
          "output_type": "stream",
          "name": "stdout",
          "text": [
            "A is 20\n",
            "B is 10\n"
          ]
        }
      ]
    },
    {
      "cell_type": "markdown",
      "source": [
        "2.Create A PROGRAM to compute student marks and classify into grades."
      ],
      "metadata": {
        "id": "paWMQHCeCZEF"
      }
    },
    {
      "cell_type": "code",
      "source": [
        "a=int(input(\"Enter the marks :\"))\n",
        "if a>=90:\n",
        "    print(\"Grade A\")\n",
        "elif a>=80:\n",
        "    print(\"Grade B\")\n",
        "elif a>=70:\n",
        "    print(\"Grade C\")\n",
        "elif a>=60:\n",
        "    print(\"Grade D\")\n",
        "elif a>=50:\n",
        "    print(\"Grade E\")\n",
        "elif a>=33:\n",
        "    print(\"Grade P\")\n",
        "else :\n",
        "    print(\"Grade F fail!!\")"
      ],
      "metadata": {
        "colab": {
          "base_uri": "https://localhost:8080/"
        },
        "id": "1xBaKPVEC1w7",
        "outputId": "e4eaed3a-0b5b-455b-9364-21d566ca3bfd"
      },
      "execution_count": null,
      "outputs": [
        {
          "output_type": "stream",
          "name": "stdout",
          "text": [
            "Enter the marks :54\n",
            "Grade E\n"
          ]
        }
      ]
    },
    {
      "cell_type": "markdown",
      "source": [
        "3.Write a program `to calculate area and perimeter of a rectangle"
      ],
      "metadata": {
        "id": "zxWiZ8AOC2Tz"
      }
    },
    {
      "cell_type": "code",
      "source": [
        "a=int(input(\"Enter the length:\"))\n",
        "b=int(input(\"Enter the breadth :\"))\n",
        "print(\"Area of rectangle is \",a*b)\n",
        "print(\"Perimeter of rectangle is\",2*(a+b))"
      ],
      "metadata": {
        "colab": {
          "base_uri": "https://localhost:8080/"
        },
        "id": "Bx7RudrfC9e8",
        "outputId": "da55dc17-4ee5-4067-85e8-35df362d914f"
      },
      "execution_count": null,
      "outputs": [
        {
          "output_type": "stream",
          "name": "stdout",
          "text": [
            "Enter the length:5\n",
            "Enter the breadth :5\n",
            "Area of rectangle is  25\n",
            "Perimeter of rectangle is 20\n"
          ]
        }
      ]
    },
    {
      "cell_type": "markdown",
      "source": [
        "4.Input 2 complex numbers and display their sum ,difference and product."
      ],
      "metadata": {
        "id": "07dE3n4iC-DG"
      }
    },
    {
      "cell_type": "code",
      "source": [
        "c1 = complex(input(\"Enter the first complex number :\"))\n",
        "c2 = complex(input(\"Enter the second complex number : \"))\n",
        "sum_c = c1 + c2\n",
        "diff_c = c1 - c2\n",
        "prod_c = c1 * c2\n",
        "print(\"Sum:\", sum_c)\n",
        "print(\"Difference:\", diff_c)\n",
        "print(\"Product:\", prod_c)"
      ],
      "metadata": {
        "id": "byDq0AtjDHxc",
        "colab": {
          "base_uri": "https://localhost:8080/"
        },
        "outputId": "2a0c9925-55be-450a-d8b6-0e4851fe13cc"
      },
      "execution_count": null,
      "outputs": [
        {
          "output_type": "stream",
          "name": "stdout",
          "text": [
            "Enter the first complex number :4+6j\n",
            "Enter the second complex number : 5-7j\n",
            "Sum: (9-1j)\n",
            "Difference: (-1+13j)\n",
            "Product: (62+2j)\n"
          ]
        }
      ]
    },
    {
      "cell_type": "markdown",
      "source": [
        "5.convert celsius to fehrenheit."
      ],
      "metadata": {
        "id": "YBQBDZAYDIHD"
      }
    },
    {
      "cell_type": "code",
      "source": [
        "celsius = float(input(\"Enter temperature in Celsius: \"))\n",
        "fahrenheit = (celsius * 9/5) + 32\n",
        "print(\"Temperature in Fahrenheit:\", fahrenheit)"
      ],
      "metadata": {
        "id": "gmtAdtsVFJ9S",
        "colab": {
          "base_uri": "https://localhost:8080/"
        },
        "outputId": "86930d33-9fb8-46ca-9312-de2708399975"
      },
      "execution_count": null,
      "outputs": [
        {
          "output_type": "stream",
          "name": "stdout",
          "text": [
            "Enter temperature in Celsius: 37\n",
            "Temperature in Fahrenheit: 98.6\n"
          ]
        }
      ]
    },
    {
      "cell_type": "markdown",
      "source": [
        "#SIGNAL CLASSIFICATION\n",
        "1.A sensor output voltages [0.2,0.7,1.5,3.0,4.8].\n",
        "classify output into low [0->1] medium[1->3]"
      ],
      "metadata": {
        "id": "4vcfV4YEFg9-"
      }
    },
    {
      "cell_type": "code",
      "source": [
        "voltage=[0.2,0.7,1.5,3.0,4.8]\n",
        "for v in voltage:\n",
        "  if v<1:\n",
        "    print(\"Low\")\n",
        "  elif (v>=1 and v < 3):\n",
        "    print(\"Medium\")\n",
        "  else:\n",
        "    print(\"High\")"
      ],
      "metadata": {
        "colab": {
          "base_uri": "https://localhost:8080/"
        },
        "id": "DA1n8tH1HI-y",
        "outputId": "64740df8-2253-4150-db0a-b3887222908f"
      },
      "execution_count": null,
      "outputs": [
        {
          "output_type": "stream",
          "name": "stdout",
          "text": [
            "Low\n",
            "Low\n",
            "Medium\n",
            "High\n",
            "High\n"
          ]
        }
      ]
    },
    {
      "cell_type": "markdown",
      "source": [
        "#Signal strength normalization\n",
        "2.Given a signal value [10,25,40,55,70].Normalize them using a formula\n",
        "x'=(x-min(x))/(max(x)-min(x))"
      ],
      "metadata": {
        "id": "WRB0ViwUHO0t"
      }
    },
    {
      "cell_type": "code",
      "source": [
        "signals=[10,25,40,55,70]\n",
        "min_x=min(signals)\n",
        "max_x=max(signals)\n",
        "normalized =[(x-min_x)/(max_x-min_x) for x in signals]\n",
        "print(normalized)"
      ],
      "metadata": {
        "colab": {
          "base_uri": "https://localhost:8080/"
        },
        "id": "Oc0FRyHDH1V7",
        "outputId": "9a712d67-1351-4a9c-f575-c69da978dfe0"
      },
      "execution_count": null,
      "outputs": [
        {
          "output_type": "stream",
          "name": "stdout",
          "text": [
            "[0.0, 0.25, 0.5, 0.75, 1.0]\n"
          ]
        }
      ]
    },
    {
      "cell_type": "markdown",
      "source": [
        "#NOISE FILTERING\n",
        "3.A signal contains noise value [0.05,0.2,1.1,2.3,0.01,3.0].Remove all values below 0.1."
      ],
      "metadata": {
        "id": "wDA2wXCfM0CC"
      }
    },
    {
      "cell_type": "code",
      "source": [
        "noise=[0.05,0.2,1.1,2.3,0.01,3.0]\n",
        "for n in noise :\n",
        "  if(n<0.1):\n",
        "    noise.remove(n)\n",
        "print(noise)\n",
        "\n",
        "# filtered = [x for x in noise if x>0.1]\n",
        "# print(filtered)"
      ],
      "metadata": {
        "colab": {
          "base_uri": "https://localhost:8080/"
        },
        "id": "6CiRj2FHNPS9",
        "outputId": "e8b5ebc5-52be-43c6-fa65-df252652fc07"
      },
      "execution_count": null,
      "outputs": [
        {
          "output_type": "stream",
          "name": "stdout",
          "text": [
            "[0.2, 1.1, 2.3, 3.0]\n"
          ]
        }
      ]
    },
    {
      "cell_type": "markdown",
      "source": [
        "4.Write a program to generate digital logic truth table of one bit inputs and b\n"
      ],
      "metadata": {
        "id": "AclJ1YAROhai"
      }
    },
    {
      "cell_type": "code",
      "source": [
        "print(\"Truth Table for Logic Gates \")\n",
        "print(\"A | B | AND | OR | XOR | NAND\")\n",
        "print(\"-----------------------------\")\n",
        "\n",
        "for a in [0, 1]:\n",
        "    for b in [0, 1]:\n",
        "        And = a & b\n",
        "        Or = a | b\n",
        "        Xor = a ^ b\n",
        "        nand = int(not (a & b))\n",
        "        print( a, \"|\", b, \"|\", And, \"  |\", Or, \" |\", Xor, \"  |\", nand )"
      ],
      "metadata": {
        "colab": {
          "base_uri": "https://localhost:8080/"
        },
        "id": "-XdrEoqFPERp",
        "outputId": "753d0561-07df-490f-d64e-3231b43d5dd0"
      },
      "execution_count": null,
      "outputs": [
        {
          "output_type": "stream",
          "name": "stdout",
          "text": [
            "Truth Table for Logic Gates \n",
            "A | B | AND | OR | XOR | NAND\n",
            "-----------------------------\n",
            "0 | 0 | 0   | 0  | 0   | 1\n",
            "0 | 1 | 0   | 1  | 1   | 1\n",
            "1 | 0 | 0   | 1  | 1   | 1\n",
            "1 | 1 | 1   | 1  | 0   | 0\n"
          ]
        }
      ]
    },
    {
      "cell_type": "markdown",
      "source": [
        "5.write a program for fibonacci series."
      ],
      "metadata": {
        "id": "svm6E57-T5Q6"
      }
    },
    {
      "cell_type": "code",
      "source": [
        "n=8\n",
        "series=[]\n",
        "a,b=0,1\n",
        "for _ in range(n):\n",
        "  series.append(a)\n",
        "  a,b=b,a+b\n",
        "print(series)"
      ],
      "metadata": {
        "colab": {
          "base_uri": "https://localhost:8080/"
        },
        "id": "OCip7dUMXY2_",
        "outputId": "abacde43-96e0-4a38-88ce-e734ab18be9f"
      },
      "execution_count": null,
      "outputs": [
        {
          "output_type": "stream",
          "name": "stdout",
          "text": [
            "[0, 1, 1, 2, 3, 5, 8, 13]\n"
          ]
        }
      ]
    }
  ]
}